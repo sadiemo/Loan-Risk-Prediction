{
 "cells": [
  {
   "cell_type": "code",
   "execution_count": 1,
   "id": "7c210dc2",
   "metadata": {},
   "outputs": [
    {
     "name": "stdout",
     "output_type": "stream",
     "text": [
      "Overwriting requirements.txt\n"
     ]
    }
   ],
   "source": [
    "%%writefile requirements.txt\n",
    "numpy\n",
    "pandas==2.2.3\n",
    "matplotlib==3.10.0"
   ]
  },
  {
   "cell_type": "code",
   "execution_count": 2,
   "id": "21e78d05",
   "metadata": {},
   "outputs": [
    {
     "name": "stdout",
     "output_type": "stream",
     "text": [
      "Requirement already satisfied: numpy in ./venv/lib/python3.13/site-packages (from -r requirements.txt (line 1)) (2.3.3)\n",
      "Requirement already satisfied: pandas==2.2.3 in ./venv/lib/python3.13/site-packages (from -r requirements.txt (line 2)) (2.2.3)\n",
      "Requirement already satisfied: matplotlib==3.10.0 in ./venv/lib/python3.13/site-packages (from -r requirements.txt (line 3)) (3.10.0)\n",
      "Requirement already satisfied: python-dateutil>=2.8.2 in ./venv/lib/python3.13/site-packages (from pandas==2.2.3->-r requirements.txt (line 2)) (2.9.0.post0)\n",
      "Requirement already satisfied: pytz>=2020.1 in ./venv/lib/python3.13/site-packages (from pandas==2.2.3->-r requirements.txt (line 2)) (2025.2)\n",
      "Requirement already satisfied: tzdata>=2022.7 in ./venv/lib/python3.13/site-packages (from pandas==2.2.3->-r requirements.txt (line 2)) (2025.2)\n",
      "Requirement already satisfied: contourpy>=1.0.1 in ./venv/lib/python3.13/site-packages (from matplotlib==3.10.0->-r requirements.txt (line 3)) (1.3.3)\n",
      "Requirement already satisfied: cycler>=0.10 in ./venv/lib/python3.13/site-packages (from matplotlib==3.10.0->-r requirements.txt (line 3)) (0.12.1)\n",
      "Requirement already satisfied: fonttools>=4.22.0 in ./venv/lib/python3.13/site-packages (from matplotlib==3.10.0->-r requirements.txt (line 3)) (4.60.1)\n",
      "Requirement already satisfied: kiwisolver>=1.3.1 in ./venv/lib/python3.13/site-packages (from matplotlib==3.10.0->-r requirements.txt (line 3)) (1.4.9)\n",
      "Requirement already satisfied: packaging>=20.0 in ./venv/lib/python3.13/site-packages (from matplotlib==3.10.0->-r requirements.txt (line 3)) (25.0)\n",
      "Requirement already satisfied: pillow>=8 in ./venv/lib/python3.13/site-packages (from matplotlib==3.10.0->-r requirements.txt (line 3)) (11.3.0)\n",
      "Requirement already satisfied: pyparsing>=2.3.1 in ./venv/lib/python3.13/site-packages (from matplotlib==3.10.0->-r requirements.txt (line 3)) (3.2.5)\n",
      "Requirement already satisfied: six>=1.5 in ./venv/lib/python3.13/site-packages (from python-dateutil>=2.8.2->pandas==2.2.3->-r requirements.txt (line 2)) (1.17.0)\n",
      "Note: you may need to restart the kernel to use updated packages.\n"
     ]
    }
   ],
   "source": [
    "%pip install -r requirements.txt"
   ]
  },
  {
   "cell_type": "code",
   "execution_count": 3,
   "id": "a9db47a5",
   "metadata": {},
   "outputs": [],
   "source": [
    "import numpy as np\n",
    "import pandas as pd\n",
    "import matplotlib.pyplot as plt"
   ]
  },
  {
   "cell_type": "markdown",
   "id": "47f8fd46",
   "metadata": {},
   "source": [
    "First, read in the csv files."
   ]
  },
  {
   "cell_type": "code",
   "execution_count": 4,
   "id": "49c9f771",
   "metadata": {},
   "outputs": [],
   "source": [
    "# TODO: Read in credit train and credit test csv\n",
    "df2 = pd.read_csv(\"credit_test.csv\")\n",
    "df1 = pd.read_csv(\"credit_train.csv\")"
   ]
  },
  {
   "cell_type": "code",
   "execution_count": 5,
   "id": "138d5d84",
   "metadata": {},
   "outputs": [
    {
     "data": {
      "text/html": [
       "<div>\n",
       "<style scoped>\n",
       "    .dataframe tbody tr th:only-of-type {\n",
       "        vertical-align: middle;\n",
       "    }\n",
       "\n",
       "    .dataframe tbody tr th {\n",
       "        vertical-align: top;\n",
       "    }\n",
       "\n",
       "    .dataframe thead th {\n",
       "        text-align: right;\n",
       "    }\n",
       "</style>\n",
       "<table border=\"1\" class=\"dataframe\">\n",
       "  <thead>\n",
       "    <tr style=\"text-align: right;\">\n",
       "      <th></th>\n",
       "      <th>Loan ID</th>\n",
       "      <th>Customer ID</th>\n",
       "      <th>Loan Status</th>\n",
       "      <th>Current Loan Amount</th>\n",
       "      <th>Term</th>\n",
       "      <th>Credit Score</th>\n",
       "      <th>Annual Income</th>\n",
       "      <th>Years in current job</th>\n",
       "      <th>Home Ownership</th>\n",
       "      <th>Purpose</th>\n",
       "      <th>Monthly Debt</th>\n",
       "      <th>Years of Credit History</th>\n",
       "      <th>Months since last delinquent</th>\n",
       "      <th>Number of Open Accounts</th>\n",
       "      <th>Number of Credit Problems</th>\n",
       "      <th>Current Credit Balance</th>\n",
       "      <th>Maximum Open Credit</th>\n",
       "      <th>Bankruptcies</th>\n",
       "      <th>Tax Liens</th>\n",
       "    </tr>\n",
       "  </thead>\n",
       "  <tbody>\n",
       "    <tr>\n",
       "      <th>0</th>\n",
       "      <td>14dd8831-6af5-400b-83ec-68e61888a048</td>\n",
       "      <td>981165ec-3274-42f5-a3b4-d104041a9ca9</td>\n",
       "      <td>Fully Paid</td>\n",
       "      <td>445412.0</td>\n",
       "      <td>Short Term</td>\n",
       "      <td>709.0</td>\n",
       "      <td>1167493.0</td>\n",
       "      <td>8 years</td>\n",
       "      <td>Home Mortgage</td>\n",
       "      <td>Home Improvements</td>\n",
       "      <td>5214.74</td>\n",
       "      <td>17.2</td>\n",
       "      <td>NaN</td>\n",
       "      <td>6.0</td>\n",
       "      <td>1.0</td>\n",
       "      <td>228190.0</td>\n",
       "      <td>416746.0</td>\n",
       "      <td>1.0</td>\n",
       "      <td>0.0</td>\n",
       "    </tr>\n",
       "    <tr>\n",
       "      <th>1</th>\n",
       "      <td>4771cc26-131a-45db-b5aa-537ea4ba5342</td>\n",
       "      <td>2de017a3-2e01-49cb-a581-08169e83be29</td>\n",
       "      <td>Fully Paid</td>\n",
       "      <td>262328.0</td>\n",
       "      <td>Short Term</td>\n",
       "      <td>NaN</td>\n",
       "      <td>NaN</td>\n",
       "      <td>10+ years</td>\n",
       "      <td>Home Mortgage</td>\n",
       "      <td>Debt Consolidation</td>\n",
       "      <td>33295.98</td>\n",
       "      <td>21.1</td>\n",
       "      <td>8.0</td>\n",
       "      <td>35.0</td>\n",
       "      <td>0.0</td>\n",
       "      <td>229976.0</td>\n",
       "      <td>850784.0</td>\n",
       "      <td>0.0</td>\n",
       "      <td>0.0</td>\n",
       "    </tr>\n",
       "    <tr>\n",
       "      <th>2</th>\n",
       "      <td>4eed4e6a-aa2f-4c91-8651-ce984ee8fb26</td>\n",
       "      <td>5efb2b2b-bf11-4dfd-a572-3761a2694725</td>\n",
       "      <td>Fully Paid</td>\n",
       "      <td>99999999.0</td>\n",
       "      <td>Short Term</td>\n",
       "      <td>741.0</td>\n",
       "      <td>2231892.0</td>\n",
       "      <td>8 years</td>\n",
       "      <td>Own Home</td>\n",
       "      <td>Debt Consolidation</td>\n",
       "      <td>29200.53</td>\n",
       "      <td>14.9</td>\n",
       "      <td>29.0</td>\n",
       "      <td>18.0</td>\n",
       "      <td>1.0</td>\n",
       "      <td>297996.0</td>\n",
       "      <td>750090.0</td>\n",
       "      <td>0.0</td>\n",
       "      <td>0.0</td>\n",
       "    </tr>\n",
       "    <tr>\n",
       "      <th>3</th>\n",
       "      <td>77598f7b-32e7-4e3b-a6e5-06ba0d98fe8a</td>\n",
       "      <td>e777faab-98ae-45af-9a86-7ce5b33b1011</td>\n",
       "      <td>Fully Paid</td>\n",
       "      <td>347666.0</td>\n",
       "      <td>Long Term</td>\n",
       "      <td>721.0</td>\n",
       "      <td>806949.0</td>\n",
       "      <td>3 years</td>\n",
       "      <td>Own Home</td>\n",
       "      <td>Debt Consolidation</td>\n",
       "      <td>8741.90</td>\n",
       "      <td>12.0</td>\n",
       "      <td>NaN</td>\n",
       "      <td>9.0</td>\n",
       "      <td>0.0</td>\n",
       "      <td>256329.0</td>\n",
       "      <td>386958.0</td>\n",
       "      <td>0.0</td>\n",
       "      <td>0.0</td>\n",
       "    </tr>\n",
       "    <tr>\n",
       "      <th>4</th>\n",
       "      <td>d4062e70-befa-4995-8643-a0de73938182</td>\n",
       "      <td>81536ad9-5ccf-4eb8-befb-47a4d608658e</td>\n",
       "      <td>Fully Paid</td>\n",
       "      <td>176220.0</td>\n",
       "      <td>Short Term</td>\n",
       "      <td>NaN</td>\n",
       "      <td>NaN</td>\n",
       "      <td>5 years</td>\n",
       "      <td>Rent</td>\n",
       "      <td>Debt Consolidation</td>\n",
       "      <td>20639.70</td>\n",
       "      <td>6.1</td>\n",
       "      <td>NaN</td>\n",
       "      <td>15.0</td>\n",
       "      <td>0.0</td>\n",
       "      <td>253460.0</td>\n",
       "      <td>427174.0</td>\n",
       "      <td>0.0</td>\n",
       "      <td>0.0</td>\n",
       "    </tr>\n",
       "  </tbody>\n",
       "</table>\n",
       "</div>"
      ],
      "text/plain": [
       "                                Loan ID                           Customer ID  \\\n",
       "0  14dd8831-6af5-400b-83ec-68e61888a048  981165ec-3274-42f5-a3b4-d104041a9ca9   \n",
       "1  4771cc26-131a-45db-b5aa-537ea4ba5342  2de017a3-2e01-49cb-a581-08169e83be29   \n",
       "2  4eed4e6a-aa2f-4c91-8651-ce984ee8fb26  5efb2b2b-bf11-4dfd-a572-3761a2694725   \n",
       "3  77598f7b-32e7-4e3b-a6e5-06ba0d98fe8a  e777faab-98ae-45af-9a86-7ce5b33b1011   \n",
       "4  d4062e70-befa-4995-8643-a0de73938182  81536ad9-5ccf-4eb8-befb-47a4d608658e   \n",
       "\n",
       "  Loan Status  Current Loan Amount        Term  Credit Score  Annual Income  \\\n",
       "0  Fully Paid             445412.0  Short Term         709.0      1167493.0   \n",
       "1  Fully Paid             262328.0  Short Term           NaN            NaN   \n",
       "2  Fully Paid           99999999.0  Short Term         741.0      2231892.0   \n",
       "3  Fully Paid             347666.0   Long Term         721.0       806949.0   \n",
       "4  Fully Paid             176220.0  Short Term           NaN            NaN   \n",
       "\n",
       "  Years in current job Home Ownership             Purpose  Monthly Debt  \\\n",
       "0              8 years  Home Mortgage   Home Improvements       5214.74   \n",
       "1            10+ years  Home Mortgage  Debt Consolidation      33295.98   \n",
       "2              8 years       Own Home  Debt Consolidation      29200.53   \n",
       "3              3 years       Own Home  Debt Consolidation       8741.90   \n",
       "4              5 years           Rent  Debt Consolidation      20639.70   \n",
       "\n",
       "   Years of Credit History  Months since last delinquent  \\\n",
       "0                     17.2                           NaN   \n",
       "1                     21.1                           8.0   \n",
       "2                     14.9                          29.0   \n",
       "3                     12.0                           NaN   \n",
       "4                      6.1                           NaN   \n",
       "\n",
       "   Number of Open Accounts  Number of Credit Problems  Current Credit Balance  \\\n",
       "0                      6.0                        1.0                228190.0   \n",
       "1                     35.0                        0.0                229976.0   \n",
       "2                     18.0                        1.0                297996.0   \n",
       "3                      9.0                        0.0                256329.0   \n",
       "4                     15.0                        0.0                253460.0   \n",
       "\n",
       "   Maximum Open Credit  Bankruptcies  Tax Liens  \n",
       "0             416746.0           1.0        0.0  \n",
       "1             850784.0           0.0        0.0  \n",
       "2             750090.0           0.0        0.0  \n",
       "3             386958.0           0.0        0.0  \n",
       "4             427174.0           0.0        0.0  "
      ]
     },
     "execution_count": 5,
     "metadata": {},
     "output_type": "execute_result"
    }
   ],
   "source": [
    "# TODO: Return the first 5 rows of the train dataframe\n",
    "df1.head()"
   ]
  },
  {
   "cell_type": "code",
   "execution_count": 6,
   "id": "d6e48101",
   "metadata": {},
   "outputs": [
    {
     "name": "stdout",
     "output_type": "stream",
     "text": [
      "<class 'pandas.core.frame.DataFrame'>\n",
      "RangeIndex: 100514 entries, 0 to 100513\n",
      "Data columns (total 19 columns):\n",
      " #   Column                        Non-Null Count   Dtype  \n",
      "---  ------                        --------------   -----  \n",
      " 0   Loan ID                       100000 non-null  object \n",
      " 1   Customer ID                   100000 non-null  object \n",
      " 2   Loan Status                   100000 non-null  object \n",
      " 3   Current Loan Amount           100000 non-null  float64\n",
      " 4   Term                          100000 non-null  object \n",
      " 5   Credit Score                  80846 non-null   float64\n",
      " 6   Annual Income                 80846 non-null   float64\n",
      " 7   Years in current job          95778 non-null   object \n",
      " 8   Home Ownership                100000 non-null  object \n",
      " 9   Purpose                       100000 non-null  object \n",
      " 10  Monthly Debt                  100000 non-null  float64\n",
      " 11  Years of Credit History       100000 non-null  float64\n",
      " 12  Months since last delinquent  46859 non-null   float64\n",
      " 13  Number of Open Accounts       100000 non-null  float64\n",
      " 14  Number of Credit Problems     100000 non-null  float64\n",
      " 15  Current Credit Balance        100000 non-null  float64\n",
      " 16  Maximum Open Credit           99998 non-null   float64\n",
      " 17  Bankruptcies                  99796 non-null   float64\n",
      " 18  Tax Liens                     99990 non-null   float64\n",
      "dtypes: float64(12), object(7)\n",
      "memory usage: 14.6+ MB\n"
     ]
    }
   ],
   "source": [
    "# TODO: Return a summary of the train dataframe\n",
    "df1.info()"
   ]
  },
  {
   "cell_type": "code",
   "execution_count": 7,
   "id": "703a25fb",
   "metadata": {},
   "outputs": [],
   "source": [
    "#Drops duplicates and unnecessary columns\n",
    "df1 = df1.drop_duplicates()\n",
    "df1 = df1.drop(columns=['Loan ID', 'Customer ID'], axis=1)"
   ]
  },
  {
   "cell_type": "markdown",
   "id": "9a5c45fb",
   "metadata": {},
   "source": [
    "Then, handle all null values."
   ]
  },
  {
   "cell_type": "code",
   "execution_count": 8,
   "id": "424d4963",
   "metadata": {},
   "outputs": [
    {
     "data": {
      "text/plain": [
       "Loan Status                         1\n",
       "Current Loan Amount                 1\n",
       "Term                                1\n",
       "Credit Score                    19155\n",
       "Annual Income                   19155\n",
       "Years in current job             3803\n",
       "Home Ownership                      1\n",
       "Purpose                             1\n",
       "Monthly Debt                        1\n",
       "Years of Credit History             1\n",
       "Months since last delinquent    48338\n",
       "Number of Open Accounts             1\n",
       "Number of Credit Problems           1\n",
       "Current Credit Balance              1\n",
       "Maximum Open Credit                 3\n",
       "Bankruptcies                      191\n",
       "Tax Liens                          10\n",
       "dtype: int64"
      ]
     },
     "execution_count": 8,
     "metadata": {},
     "output_type": "execute_result"
    }
   ],
   "source": [
    "# TODO: Check for missing values in the train dataframe (Hint: use isnull().sum())\n",
    "df1.isnull().sum()"
   ]
  },
  {
   "cell_type": "code",
   "execution_count": 9,
   "id": "56c2688b",
   "metadata": {},
   "outputs": [
    {
     "name": "stderr",
     "output_type": "stream",
     "text": [
      "/var/folders/72/wyhp9lq90555g15fm2t545rh0000gn/T/ipykernel_17358/4180908666.py:6: FutureWarning: A value is trying to be set on a copy of a DataFrame or Series through chained assignment using an inplace method.\n",
      "The behavior will change in pandas 3.0. This inplace method will never work because the intermediate object on which we are setting values always behaves as a copy.\n",
      "\n",
      "For example, when doing 'df[col].method(value, inplace=True)', try using 'df.method({col: value}, inplace=True)' or df[col] = df[col].method(value) instead, to perform the operation inplace on the original object.\n",
      "\n",
      "\n",
      "  df1['Current Loan Amount'].fillna(0, inplace=True)\n",
      "/var/folders/72/wyhp9lq90555g15fm2t545rh0000gn/T/ipykernel_17358/4180908666.py:7: FutureWarning: A value is trying to be set on a copy of a DataFrame or Series through chained assignment using an inplace method.\n",
      "The behavior will change in pandas 3.0. This inplace method will never work because the intermediate object on which we are setting values always behaves as a copy.\n",
      "\n",
      "For example, when doing 'df[col].method(value, inplace=True)', try using 'df.method({col: value}, inplace=True)' or df[col] = df[col].method(value) instead, to perform the operation inplace on the original object.\n",
      "\n",
      "\n",
      "  df1['Years of Credit History'].fillna(df1['Years of Credit History'].median(), inplace=True)\n",
      "/var/folders/72/wyhp9lq90555g15fm2t545rh0000gn/T/ipykernel_17358/4180908666.py:8: FutureWarning: A value is trying to be set on a copy of a DataFrame or Series through chained assignment using an inplace method.\n",
      "The behavior will change in pandas 3.0. This inplace method will never work because the intermediate object on which we are setting values always behaves as a copy.\n",
      "\n",
      "For example, when doing 'df[col].method(value, inplace=True)', try using 'df.method({col: value}, inplace=True)' or df[col] = df[col].method(value) instead, to perform the operation inplace on the original object.\n",
      "\n",
      "\n",
      "  df1['Credit Score'].fillna(df1['Credit Score'].median(), inplace=True)\n",
      "/var/folders/72/wyhp9lq90555g15fm2t545rh0000gn/T/ipykernel_17358/4180908666.py:9: FutureWarning: A value is trying to be set on a copy of a DataFrame or Series through chained assignment using an inplace method.\n",
      "The behavior will change in pandas 3.0. This inplace method will never work because the intermediate object on which we are setting values always behaves as a copy.\n",
      "\n",
      "For example, when doing 'df[col].method(value, inplace=True)', try using 'df.method({col: value}, inplace=True)' or df[col] = df[col].method(value) instead, to perform the operation inplace on the original object.\n",
      "\n",
      "\n",
      "  df1['Annual Income'].fillna(df1['Annual Income'].median(), inplace=True)\n",
      "/var/folders/72/wyhp9lq90555g15fm2t545rh0000gn/T/ipykernel_17358/4180908666.py:10: FutureWarning: A value is trying to be set on a copy of a DataFrame or Series through chained assignment using an inplace method.\n",
      "The behavior will change in pandas 3.0. This inplace method will never work because the intermediate object on which we are setting values always behaves as a copy.\n",
      "\n",
      "For example, when doing 'df[col].method(value, inplace=True)', try using 'df.method({col: value}, inplace=True)' or df[col] = df[col].method(value) instead, to perform the operation inplace on the original object.\n",
      "\n",
      "\n",
      "  df1['Years in current job'].fillna(df1['Years in current job'].mode()[0], inplace=True)\n",
      "/var/folders/72/wyhp9lq90555g15fm2t545rh0000gn/T/ipykernel_17358/4180908666.py:11: FutureWarning: A value is trying to be set on a copy of a DataFrame or Series through chained assignment using an inplace method.\n",
      "The behavior will change in pandas 3.0. This inplace method will never work because the intermediate object on which we are setting values always behaves as a copy.\n",
      "\n",
      "For example, when doing 'df[col].method(value, inplace=True)', try using 'df.method({col: value}, inplace=True)' or df[col] = df[col].method(value) instead, to perform the operation inplace on the original object.\n",
      "\n",
      "\n",
      "  df1['Months since last delinquent'].fillna(df1['Months since last delinquent'].median(), inplace=True)\n"
     ]
    }
   ],
   "source": [
    "# standardize nulls to np.nan, so pandas recognizes them as missing\n",
    "df1.replace(['nan','NaN','NULL','',' '], np.nan, inplace=True)\n",
    "\n",
    "# TODO: Impute missing values (Hint: Use fillna())\n",
    "# Hint: you can use median, mode, mean, or a specific value to fill in missing values\n",
    "df1['Current Loan Amount'].fillna(0, inplace=True)\n",
    "df1['Years of Credit History'].fillna(df1['Years of Credit History'].median(), inplace=True)\n",
    "df1['Credit Score'].fillna(df1['Credit Score'].median(), inplace=True)\n",
    "df1['Annual Income'].fillna(df1['Annual Income'].median(), inplace=True)\n",
    "df1['Years in current job'].fillna(df1['Years in current job'].mode()[0], inplace=True)\n",
    "df1['Months since last delinquent'].fillna(df1['Months since last delinquent'].median(), inplace=True)"
   ]
  },
  {
   "cell_type": "code",
   "execution_count": 10,
   "id": "45592a77",
   "metadata": {},
   "outputs": [
    {
     "data": {
      "text/plain": [
       "Loan Status                       1\n",
       "Current Loan Amount               0\n",
       "Term                              1\n",
       "Credit Score                      0\n",
       "Annual Income                     0\n",
       "Years in current job              0\n",
       "Home Ownership                    1\n",
       "Purpose                           1\n",
       "Monthly Debt                      1\n",
       "Years of Credit History           0\n",
       "Months since last delinquent      0\n",
       "Number of Open Accounts           1\n",
       "Number of Credit Problems         1\n",
       "Current Credit Balance            1\n",
       "Maximum Open Credit               3\n",
       "Bankruptcies                    191\n",
       "Tax Liens                        10\n",
       "dtype: int64"
      ]
     },
     "execution_count": 10,
     "metadata": {},
     "output_type": "execute_result"
    }
   ],
   "source": [
    "# TODO: Check for missing values again to confirm they were filled\n",
    "df1.isnull().sum()"
   ]
  },
  {
   "cell_type": "markdown",
   "id": "5b18c4fb",
   "metadata": {},
   "source": [
    "Feature Engineering"
   ]
  },
  {
   "cell_type": "code",
   "execution_count": 11,
   "id": "2439b1ac",
   "metadata": {},
   "outputs": [],
   "source": [
    "import re\n",
    "import numpy as np\n",
    "import pandas as pd\n",
    "\n",
    "\n",
    "# 1a) Years in current job: extract numeric and bin\n",
    "def extract_years(s):\n",
    "    s = str(s)\n",
    "    match = re.findall(r'\\d+', s)\n",
    "    if match:\n",
    "        return int(match[0])\n",
    "    return None\n",
    "\n",
    "df1['Years in current job'] = df1['Years in current job'].apply(extract_years)\n",
    "\n",
    "bins = [0, 2, 5, 10, float('inf')]\n",
    "labels = ['0-2', '2-5', '5-10', '10+']\n",
    "df1['Years in current job'] = pd.cut(df1['Years in current job'], bins=bins, labels=labels, right=False)\n",
    "\n",
    "# 1b) Standardize Purpose values to the canonical list used in the reference\n",
    "df1['Purpose'] = df1['Purpose'].replace({\n",
    "    'Home Improvements':'Home Renovation / Improvement',\n",
    "    'Debt Consolidation':'Debt Consolidation',\n",
    "    'Buy House':'Home Purchase / Mortgage',\n",
    "    'Business Loan':'Business / Startup Capital',\n",
    "    'Buy a Car':'Car / Vehicle Purchase',\n",
    "    'Take a Trip':'Vacation / Travel',\n",
    "    'small_business':'Business / Startup Capital',\n",
    "    'Medical Bills':'Medical Expenses',\n",
    "    'wedding':'Wedding Expenses',\n",
    "    'vacation':'Vacation / Travel',\n",
    "    'Educational Expenses':'Education / Tuition Fees',\n",
    "    'moving':'Moving / Relocation Costs',\n",
    "    'other':'Other / Miscellaneous',\n",
    "    'Other':'Other / Miscellaneous',\n",
    "    'renewable_energy':'Buying Electronics / Appliances',\n",
    "    'major_purchase':'Business / Startup Capital'\n",
    "})"
   ]
  },
  {
   "cell_type": "markdown",
   "id": "b0792020",
   "metadata": {},
   "source": [
    "Then, encode the categorical data."
   ]
  },
  {
   "cell_type": "code",
   "execution_count": 12,
   "id": "1ecdd4cc",
   "metadata": {},
   "outputs": [
    {
     "name": "stdout",
     "output_type": "stream",
     "text": [
      "Categorical: ['Loan Status', 'Term', 'Home Ownership', 'Purpose']\n",
      "Numerical: ['Current Loan Amount', 'Credit Score', 'Annual Income', 'Years in current job', 'Monthly Debt', 'Years of Credit History', 'Months since last delinquent', 'Number of Open Accounts', 'Number of Credit Problems', 'Current Credit Balance', 'Maximum Open Credit', 'Bankruptcies', 'Tax Liens']\n"
     ]
    }
   ],
   "source": [
    "#Separate categorical and numerical columns\n",
    "cat_list = df1.select_dtypes(include='object').columns.tolist()\n",
    "num_list = df1.select_dtypes(exclude='object').columns.tolist()\n",
    "print(\"Categorical:\", cat_list)\n",
    "print(\"Numerical:\", num_list)"
   ]
  },
  {
   "cell_type": "code",
   "execution_count": 13,
   "id": "00dca561",
   "metadata": {},
   "outputs": [],
   "source": [
    "from sklearn.preprocessing import OrdinalEncoder, LabelEncoder, OneHotEncoder\n",
    "\n",
    "# 2a) Ordinal encoding for 'Years in current job'\n",
    "od = OrdinalEncoder(categories=[['0-2', '2-5', '5-10', '10+']])\n",
    "df1['Years in current job'] = od.fit_transform(df1[['Years in current job']])\n",
    "\n",
    "# 2b) Label encode simple categories\n",
    "le = LabelEncoder()\n",
    "for col in ['Loan Status', 'Term', 'Home Ownership']:\n",
    "    df1[col] = le.fit_transform(df1[col].fillna('Missing'))\n",
    "\n",
    "# 2c) One-hot encode 'Purpose' \n",
    "# TODO: One-hot encode 'Purpose' (Hint: use OneHotEncoder from sklearn)\n",
    "ohe = OneHotEncoder(sparse_output=False, drop='first')\n",
    "purpose_encoded = ohe.fit_transform(df1[['Purpose']].fillna('Missing'))\n",
    "purpose_df = pd.DataFrame(purpose_encoded, columns=ohe.get_feature_names_out(['Purpose']), index=df1.index)\n",
    "df1 = pd.concat([df1.drop('Purpose', axis=1), purpose_df], axis=1)"
   ]
  },
  {
   "cell_type": "markdown",
   "id": "dd67e0f5",
   "metadata": {},
   "source": [
    "Finally, create a train/test split."
   ]
  },
  {
   "cell_type": "code",
   "execution_count": 15,
   "id": "d203e465",
   "metadata": {},
   "outputs": [],
   "source": [
    "from sklearn.model_selection import train_test_split\n",
    "from sklearn.preprocessing import StandardScaler\n",
    "\n",
    "# TODO: Create feature matrix X and target vector y\n",
    "X = df1.drop('Loan Status', axis=1)\n",
    "y = df1['Loan Status']\n",
    "\n",
    "# TODO: Create a train/test split (Hint: use train_test_split from sklearn)\n",
    "X_train, X_test, y_train, y_test = train_test_split(\n",
    "    X, y, test_size=0.2, random_state=42\n",
    ")\n",
    "\n",
    "scaler = StandardScaler()\n",
    "X_train_scaled = scaler.fit_transform(X_train)\n",
    "X_test_scaled = scaler.transform(X_test)"
   ]
  },
  {
   "cell_type": "code",
   "execution_count": 16,
   "id": "643d41ee",
   "metadata": {},
   "outputs": [],
   "source": [
    "# Save the processed data to CSV files\n",
    "import pandas as pd\n",
    "\n",
    "X_train_scaled_df = pd.DataFrame(X_train_scaled, columns=X_train.columns)\n",
    "X_test_scaled_df  = pd.DataFrame(X_test_scaled, columns=X_test.columns)\n",
    "\n",
    "X_train_scaled_df.to_csv(\"X_train_scaled.csv\", index=False)\n",
    "X_test_scaled_df.to_csv(\"X_test_scaled.csv\", index=False)\n",
    "\n",
    "y_train.to_csv(\"y_train.csv\", index=False, header=[\"Loan Status\"])\n",
    "y_test.to_csv(\"y_test.csv\", index=False, header=[\"Loan Status\"])"
   ]
  }
 ],
 "metadata": {
  "kernelspec": {
   "display_name": "venv",
   "language": "python",
   "name": "python3"
  },
  "language_info": {
   "codemirror_mode": {
    "name": "ipython",
    "version": 3
   },
   "file_extension": ".py",
   "mimetype": "text/x-python",
   "name": "python",
   "nbconvert_exporter": "python",
   "pygments_lexer": "ipython3",
   "version": "3.13.7"
  }
 },
 "nbformat": 4,
 "nbformat_minor": 5
}
